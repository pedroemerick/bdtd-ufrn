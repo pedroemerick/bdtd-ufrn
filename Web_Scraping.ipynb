{
  "nbformat": 4,
  "nbformat_minor": 0,
  "metadata": {
    "colab": {
      "name": "Web Scraping.ipynb",
      "version": "0.3.2",
      "provenance": [],
      "collapsed_sections": [
        "92zXUT5BqR72",
        "YvVKl19GqaH9"
      ]
    },
    "kernelspec": {
      "name": "python3",
      "display_name": "Python 3"
    }
  },
  "cells": [
    {
      "cell_type": "markdown",
      "metadata": {
        "id": "b0BkIikfqNeC",
        "colab_type": "text"
      },
      "source": [
        "## Web Scraping"
      ]
    },
    {
      "cell_type": "code",
      "metadata": {
        "id": "s6qYuJmQC1Pq",
        "colab_type": "code",
        "colab": {}
      },
      "source": [
        "import requests\n",
        "from bs4 import BeautifulSoup\n",
        "import pandas as pd\n",
        "\n",
        "# Função para realização do web scraping\n",
        "def search_thesis (programs):\n",
        "  columns = ['program', 'day', 'month', 'year', 'title', 'author', 'key_words', 'abstract', 'resume']\n",
        "  df = pd.DataFrame(columns=columns)\n",
        "\n",
        "  url_general = 'http://repositorio.ufrn.br:8080/jspui/handle/123456789/'\n",
        "\n",
        "  # Percorre os subprogramas dos programas\n",
        "  for key, value in programs.items():\n",
        "\n",
        "    url_program = url_general + value\n",
        "    response = requests.get(url_program)\n",
        "    content = response.content\n",
        "    parser = BeautifulSoup(content, 'html.parser')\n",
        "\n",
        "    # Total de teses/dissertações\n",
        "    text_range = parser.select(\".browse_range\")[0].getText()\n",
        "    num_range = int(text_range.strip().split(\" \")[-1])\n",
        "    num_offsets = int(num_range / 20)\n",
        "\n",
        "    # Percorre a listagens das teses/dissertações do programa\n",
        "    for offset in range(0, num_offsets+1):\n",
        "      # Usado apenas para que seja definido o cookie com o idioma PT-BR\n",
        "      url_cookie_pt_br = url_general + value + '?locale=pt_BR'\n",
        "      reponse_cookie_pr_br = requests.get(url_cookie_pt_br)\n",
        "\n",
        "      url_program_pages = url_general + value + '?offset=' + str(offset*20);\n",
        "\n",
        "      response_program_pages = requests.get(url_program_pages)\n",
        "      content_program_pages = response_program_pages.content\n",
        "      parser_program_pages = BeautifulSoup(content_program_pages, 'html.parser')\n",
        "\n",
        "      table = parser_program_pages.select(\".table\")\n",
        "\n",
        "      if len(table) < 1:\n",
        "        continue\n",
        "\n",
        "      table = table[0]\n",
        "      table_rows = table.find_all(\"tr\")\n",
        "\n",
        "      # Percorre os dados da tabela das teses/dissertações\n",
        "      for cel in table_rows[1:]:\n",
        "\n",
        "        date = cel.select(\"td\")[0].getText()\n",
        "        date = date.split('-')\n",
        "\n",
        "        if len(date) == 3:\n",
        "          day = date[0]\n",
        "          month = date[1]\n",
        "          year = date[2]\n",
        "        else:\n",
        "          day = None\n",
        "          month = date[0]\n",
        "          year = date[1]\n",
        "        \n",
        "        # Pode ser removido '&#64257' das strings também, se atrapalhar a analise dos dados;\n",
        "        title = cel.select(\"td\")[1].getText().replace('&#65279;', '')\n",
        "        tese_link = 'http://repositorio.ufrn.br:8080' + cel.select(\"a\")[0].get(\"href\") + '?locale=pt_BR'\n",
        "        author = cel.select(\"td\")[2].getText().replace('&#65279;', '')\n",
        "\n",
        "        response_tese = requests.get(tese_link)\n",
        "        content_tese = response_tese.content\n",
        "        parser_tese = BeautifulSoup(content_tese, 'html.parser')\n",
        "\n",
        "        table_tese = parser_tese.select(\".table\")[0]\n",
        "        table_rows_tese = table_tese.find_all(\"tr\")\n",
        "        \n",
        "        infos = get_info(table_rows_tese)\n",
        "\n",
        "        tese_df = pd.DataFrame([[key, day, month, year, title, author, infos[0], infos[1], infos[2]]], columns=columns)\n",
        "\n",
        "        df = df.append(tese_df, ignore_index=True)\n",
        "      \n",
        "  return df"
      ],
      "execution_count": 0,
      "outputs": []
    },
    {
      "cell_type": "code",
      "metadata": {
        "id": "fOhVseAHLZ6L",
        "colab_type": "code",
        "colab": {}
      },
      "source": [
        "# Função que pega as palavras-chave, abstract e resumo da tabela na página de uma tese/dissertação especifica\n",
        "def get_info (table_rows_thesis):\n",
        "  key_words = None\n",
        "  abstract = None\n",
        "  resume = None\n",
        "  \n",
        "  for row in table_rows_thesis:    \n",
        "    item = row.select(\"td\")[0].getText().strip()\n",
        "\n",
        "    if item == 'Palavras-chave:':\n",
        "      key_words = row.select(\"td\")[1].getText().strip('&#65279;').replace('&#65279;', '')\n",
        "    elif item == 'Abstract:':\n",
        "      abstract = row.select(\"td\")[1].getText().strip('&#65279;').replace('&#65279;', '')\n",
        "    elif item == 'Resumo:':\n",
        "      resume = row.select(\"td\")[1].getText().strip('&#65279;').replace('&#65279;', '')\n",
        "  \n",
        "  return [key_words, abstract, resume]"
      ],
      "execution_count": 0,
      "outputs": []
    },
    {
      "cell_type": "code",
      "metadata": {
        "id": "MvfQIJZFEGpC",
        "colab_type": "code",
        "outputId": "c273176b-4bd7-41d0-e432-c0643c452226",
        "colab": {
          "base_uri": "https://localhost:8080/",
          "height": 34
        }
      },
      "source": [
        "# Usado para calcular o tempo de execução\n",
        "import time\n",
        "start = time.time()\n",
        "\n",
        "# Definição do código dos programas\n",
        "ppgeec = {'doutorado':'12009', 'mestrado':'12008'}\n",
        "ppged = {'doutorado':'12002', 'mestrado':'12001'}\n",
        "ppgcsa = {'doutorado':'11917', 'mestrado':'11916'}\n",
        "\n",
        "ppgcsa_df = search_thesis(ppgcsa)\n",
        "ppgeec_df = search_thesis(ppgeec)\n",
        "ppged_df = search_thesis(ppged)\n",
        "\n",
        "# Usado para calcular o tempo de execução\n",
        "end = time.time()\n",
        "hours, rem = divmod(end-start, 3600)\n",
        "minutes, seconds = divmod(rem, 60)\n",
        "print(\"{:0>2}:{:0>2}:{:05.2f}\".format(int(hours),int(minutes),seconds))"
      ],
      "execution_count": 0,
      "outputs": [
        {
          "output_type": "stream",
          "text": [
            "00:27:10.36\n"
          ],
          "name": "stdout"
        }
      ]
    },
    {
      "cell_type": "markdown",
      "metadata": {
        "id": "92zXUT5BqR72",
        "colab_type": "text"
      },
      "source": [
        "## Save Datasets"
      ]
    },
    {
      "cell_type": "code",
      "metadata": {
        "id": "MhoOQ9IKFT7j",
        "colab_type": "code",
        "outputId": "636f9e19-b40c-4e72-aa69-6670d6c915bc",
        "colab": {
          "base_uri": "https://localhost:8080/",
          "height": 153
        }
      },
      "source": [
        "# Datasets do PPGEEC\n",
        "print(ppgeec_df.tail())\n",
        "ppgeec_df.to_csv('ppgeec.csv')\n",
        "\n",
        "ppgeec_mestrado_df = ppgeec_df[ppgeec_df.program == 'mestrado'].reset_index(drop=True)\n",
        "ppgeec_mestrado_df.to_csv('ppgeec_mestrado.csv')\n",
        "\n",
        "ppgeec_doutorado_df = ppgeec_df[ppgeec_df.program == 'doutorado'].reset_index(drop=True)\n",
        "ppgeec_doutorado_df.to_csv('ppgeec_doutorado.csv')"
      ],
      "execution_count": 0,
      "outputs": [
        {
          "output_type": "stream",
          "text": [
            "      program  ...                                             resume\n",
            "664  mestrado  ...  Este trabalho desenvolveu rotinas de software,...\n",
            "665  mestrado  ...  Neste trabalho, a robustez e o desempenho do c...\n",
            "666  mestrado  ...  Este trabalho se propõe a realizar uma análise...\n",
            "667  mestrado  ...  No presente trabalho, aplicamos técnicas de in...\n",
            "668  mestrado  ...  Esta dissertação descreve a utilização de nova...\n",
            "\n",
            "[5 rows x 9 columns]\n"
          ],
          "name": "stdout"
        }
      ]
    },
    {
      "cell_type": "code",
      "metadata": {
        "id": "to_NrHxRGGBw",
        "colab_type": "code",
        "outputId": "25c467fc-aa99-4e18-ac6a-4feda64c04eb",
        "colab": {
          "base_uri": "https://localhost:8080/",
          "height": 153
        }
      },
      "source": [
        "# Datasets do PPGCSA\n",
        "print(ppgcsa_df.tail())\n",
        "ppgcsa_df.to_csv('ppgcsa.csv')\n",
        "\n",
        "ppgcsa_mestrado_df = ppgcsa_df[ppgcsa_df.program == 'mestrado'].reset_index(drop=True)\n",
        "ppgcsa_mestrado_df.to_csv('ppgcsa_mestrado.csv')\n",
        "\n",
        "ppgcsa_doutorado_df = ppgcsa_df[ppgcsa_df.program == 'doutorado'].reset_index(drop=True)\n",
        "ppgcsa_doutorado_df.to_csv('ppgcsa_doutorado.csv')"
      ],
      "execution_count": 0,
      "outputs": [
        {
          "output_type": "stream",
          "text": [
            "      program  ...                                             resume\n",
            "464  mestrado  ...  O objetivo deste estudo de caráter descritivo ...\n",
            "465  mestrado  ...  Os índices de prevalência da obesidade crescem...\n",
            "466  mestrado  ...  A violência institucional pode incluir desde a...\n",
            "467  mestrado  ...  A elaboração de perfis de características que ...\n",
            "468  mestrado  ...  A obesidade é considerada, atualmente, problem...\n",
            "\n",
            "[5 rows x 9 columns]\n"
          ],
          "name": "stdout"
        }
      ]
    },
    {
      "cell_type": "code",
      "metadata": {
        "id": "QewbVSihGJOT",
        "colab_type": "code",
        "outputId": "32b2917f-279b-4925-c044-3f210a00daff",
        "colab": {
          "base_uri": "https://localhost:8080/",
          "height": 153
        }
      },
      "source": [
        "# Datasets do PPGED\n",
        "print(ppged_df.tail())\n",
        "ppged_df.to_csv('ppged.csv')\n",
        "\n",
        "ppged_mestrado_df = ppged_df[ppged_df.program == 'mestrado'].reset_index(drop=True)\n",
        "ppged_mestrado_df.to_csv('ppged_mestrado.csv')\n",
        "\n",
        "ppged_doutorado_df = ppged_df[ppged_df.program == 'doutorado'].reset_index(drop=True)\n",
        "ppged_doutorado_df.to_csv('ppged_doutorado.csv')"
      ],
      "execution_count": 0,
      "outputs": [
        {
          "output_type": "stream",
          "text": [
            "      program  ...                                             resume\n",
            "836  mestrado  ...  O objeto de estudo desta dissertação consiste ...\n",
            "837  mestrado  ...  Esta pesquisa está centrada nas raízes da prop...\n",
            "838  mestrado  ...  O presente trabalho tem como objetivo reconsti...\n",
            "839  mestrado  ...  Tendo como objeto de estudo a Educação Física ...\n",
            "840  mestrado  ...  Os dados mais recentes do Prova Brasil (BRASIL...\n",
            "\n",
            "[5 rows x 9 columns]\n"
          ],
          "name": "stdout"
        }
      ]
    },
    {
      "cell_type": "markdown",
      "metadata": {
        "id": "YvVKl19GqaH9",
        "colab_type": "text"
      },
      "source": [
        "## Basic Analysis"
      ]
    },
    {
      "cell_type": "code",
      "metadata": {
        "id": "AqC1s612YovS",
        "colab_type": "code",
        "outputId": "7a0892f2-3763-4752-e3fe-8ca27823c59a",
        "colab": {
          "base_uri": "https://localhost:8080/",
          "height": 289
        }
      },
      "source": [
        "ppgeec_df.tail()"
      ],
      "execution_count": 0,
      "outputs": [
        {
          "output_type": "execute_result",
          "data": {
            "text/html": [
              "<div>\n",
              "<style scoped>\n",
              "    .dataframe tbody tr th:only-of-type {\n",
              "        vertical-align: middle;\n",
              "    }\n",
              "\n",
              "    .dataframe tbody tr th {\n",
              "        vertical-align: top;\n",
              "    }\n",
              "\n",
              "    .dataframe thead th {\n",
              "        text-align: right;\n",
              "    }\n",
              "</style>\n",
              "<table border=\"1\" class=\"dataframe\">\n",
              "  <thead>\n",
              "    <tr style=\"text-align: right;\">\n",
              "      <th></th>\n",
              "      <th>program</th>\n",
              "      <th>day</th>\n",
              "      <th>month</th>\n",
              "      <th>year</th>\n",
              "      <th>title</th>\n",
              "      <th>author</th>\n",
              "      <th>key_words</th>\n",
              "      <th>abstract</th>\n",
              "      <th>resume</th>\n",
              "    </tr>\n",
              "  </thead>\n",
              "  <tbody>\n",
              "    <tr>\n",
              "      <th>435</th>\n",
              "      <td>mestrado</td>\n",
              "      <td>15</td>\n",
              "      <td>Feb</td>\n",
              "      <td>2007</td>\n",
              "      <td>Software inteligente embarcado aplicado à corr...</td>\n",
              "      <td>Cagni Júnior, Elói</td>\n",
              "      <td>None</td>\n",
              "      <td>This study developed software rotines, in a sy...</td>\n",
              "      <td>None</td>\n",
              "    </tr>\n",
              "    <tr>\n",
              "      <th>436</th>\n",
              "      <td>mestrado</td>\n",
              "      <td>19</td>\n",
              "      <td>Oct</td>\n",
              "      <td>2007</td>\n",
              "      <td>Avaliação de robustez, desempenho e aplicação ...</td>\n",
              "      <td>Santos, Marcelo Brandão dos</td>\n",
              "      <td>None</td>\n",
              "      <td>In this work, the variable structure adaptive ...</td>\n",
              "      <td>None</td>\n",
              "    </tr>\n",
              "    <tr>\n",
              "      <th>437</th>\n",
              "      <td>mestrado</td>\n",
              "      <td>13</td>\n",
              "      <td>Nov</td>\n",
              "      <td>2007</td>\n",
              "      <td>Um sistema para estimação da vazão de gás de p...</td>\n",
              "      <td>Silva, Sérgio José Gonçalves e</td>\n",
              "      <td>None</td>\n",
              "      <td>This work intends to analyze the behavior of t...</td>\n",
              "      <td>None</td>\n",
              "    </tr>\n",
              "    <tr>\n",
              "      <th>438</th>\n",
              "      <td>mestrado</td>\n",
              "      <td>23</td>\n",
              "      <td>Nov</td>\n",
              "      <td>2007</td>\n",
              "      <td>Técnicas de inteligência artificial para a ger...</td>\n",
              "      <td>Araújo Júnior, José Medeiros de</td>\n",
              "      <td>None</td>\n",
              "      <td>Artificial Intelligence techniques are applied...</td>\n",
              "      <td>None</td>\n",
              "    </tr>\n",
              "    <tr>\n",
              "      <th>439</th>\n",
              "      <td>mestrado</td>\n",
              "      <td>31</td>\n",
              "      <td>Jul</td>\n",
              "      <td>2006</td>\n",
              "      <td>Utilização de Novas Tecnologias de Telecomunic...</td>\n",
              "      <td>Jesus Júnior, Salvador Fernandes de</td>\n",
              "      <td>None</td>\n",
              "      <td>This dissertation describes the use of new Tec...</td>\n",
              "      <td>None</td>\n",
              "    </tr>\n",
              "  </tbody>\n",
              "</table>\n",
              "</div>"
            ],
            "text/plain": [
              "      program day  ...                                           abstract resume\n",
              "435  mestrado  15  ...  This study developed software rotines, in a sy...   None\n",
              "436  mestrado  19  ...  In this work, the variable structure adaptive ...   None\n",
              "437  mestrado  13  ...  This work intends to analyze the behavior of t...   None\n",
              "438  mestrado  23  ...  Artificial Intelligence techniques are applied...   None\n",
              "439  mestrado  31  ...  This dissertation describes the use of new Tec...   None\n",
              "\n",
              "[5 rows x 9 columns]"
            ]
          },
          "metadata": {
            "tags": []
          },
          "execution_count": 53
        }
      ]
    },
    {
      "cell_type": "code",
      "metadata": {
        "id": "P-kTu58oekL0",
        "colab_type": "code",
        "outputId": "179c59ac-40f9-4fd4-e5dd-23b5e6f65dce",
        "colab": {
          "base_uri": "https://localhost:8080/",
          "height": 97
        }
      },
      "source": [
        "ppgeec_df[ppgeec_df.author == 'Avelino, Álvaro Medeiros']"
      ],
      "execution_count": 0,
      "outputs": [
        {
          "output_type": "execute_result",
          "data": {
            "text/html": [
              "<div>\n",
              "<style scoped>\n",
              "    .dataframe tbody tr th:only-of-type {\n",
              "        vertical-align: middle;\n",
              "    }\n",
              "\n",
              "    .dataframe tbody tr th {\n",
              "        vertical-align: top;\n",
              "    }\n",
              "\n",
              "    .dataframe thead th {\n",
              "        text-align: right;\n",
              "    }\n",
              "</style>\n",
              "<table border=\"1\" class=\"dataframe\">\n",
              "  <thead>\n",
              "    <tr style=\"text-align: right;\">\n",
              "      <th></th>\n",
              "      <th>program</th>\n",
              "      <th>day</th>\n",
              "      <th>month</th>\n",
              "      <th>year</th>\n",
              "      <th>title</th>\n",
              "      <th>author</th>\n",
              "      <th>key_words</th>\n",
              "      <th>abstract</th>\n",
              "      <th>resume</th>\n",
              "    </tr>\n",
              "  </thead>\n",
              "  <tbody>\n",
              "    <tr>\n",
              "      <th>34</th>\n",
              "      <td>doutorado</td>\n",
              "      <td>9</td>\n",
              "      <td>Jun</td>\n",
              "      <td>2017</td>\n",
              "      <td>LP-P2IP: uma versão de baixo consumo da arquit...</td>\n",
              "      <td>Avelino, Álvaro Medeiros</td>\n",
              "      <td>FPGA;Reconfiguração parcial;Processamento de v...</td>\n",
              "      <td>None</td>\n",
              "      <td>Este trabalho utiliza como base a arquitetura ...</td>\n",
              "    </tr>\n",
              "  </tbody>\n",
              "</table>\n",
              "</div>"
            ],
            "text/plain": [
              "      program day  ... abstract                                             resume\n",
              "34  doutorado   9  ...     None  Este trabalho utiliza como base a arquitetura ...\n",
              "\n",
              "[1 rows x 9 columns]"
            ]
          },
          "metadata": {
            "tags": []
          },
          "execution_count": 83
        }
      ]
    },
    {
      "cell_type": "code",
      "metadata": {
        "id": "a-4gUZUXgPMn",
        "colab_type": "code",
        "outputId": "e354325b-fc6c-45f7-e977-878f4c774607",
        "colab": {
          "base_uri": "https://localhost:8080/",
          "height": 255
        }
      },
      "source": [
        "ppgeec_df.info()"
      ],
      "execution_count": 0,
      "outputs": [
        {
          "output_type": "stream",
          "text": [
            "<class 'pandas.core.frame.DataFrame'>\n",
            "RangeIndex: 669 entries, 0 to 668\n",
            "Data columns (total 9 columns):\n",
            "program      669 non-null object\n",
            "day          667 non-null object\n",
            "month        669 non-null object\n",
            "year         669 non-null object\n",
            "title        669 non-null object\n",
            "author       669 non-null object\n",
            "key_words    669 non-null object\n",
            "abstract     627 non-null object\n",
            "resume       669 non-null object\n",
            "dtypes: object(9)\n",
            "memory usage: 47.1+ KB\n"
          ],
          "name": "stdout"
        }
      ]
    },
    {
      "cell_type": "code",
      "metadata": {
        "id": "5NrO6EIcKvQ7",
        "colab_type": "code",
        "colab": {}
      },
      "source": [
        "with pd.option_context('display.max_rows', None, 'display.max_columns', None):  # more options can be specified also\n",
        "    print(ppgeec_df)"
      ],
      "execution_count": 0,
      "outputs": []
    },
    {
      "cell_type": "code",
      "metadata": {
        "id": "iHofGqtDKx6A",
        "colab_type": "code",
        "outputId": "eeb8bb30-e66f-4716-9d63-ae15c363971c",
        "colab": {
          "base_uri": "https://localhost:8080/",
          "height": 34
        }
      },
      "source": [
        "years = ppgeec_df.year.unique()\n",
        "years = [int(x) for x in years]\n",
        "years.sort()\n",
        "\n",
        "print(years)"
      ],
      "execution_count": 0,
      "outputs": [
        {
          "output_type": "stream",
          "text": [
            "[1985, 2000, 2001, 2002, 2003, 2004, 2005, 2006, 2007, 2008, 2009, 2010, 2011, 2012, 2013, 2014, 2015, 2016, 2017, 2018, 2019]\n"
          ],
          "name": "stdout"
        }
      ]
    },
    {
      "cell_type": "code",
      "metadata": {
        "id": "uFq-dn_icDNu",
        "colab_type": "code",
        "outputId": "ab259edd-ece8-42d1-e958-9ebfdf64687a",
        "colab": {
          "base_uri": "https://localhost:8080/",
          "height": 306
        }
      },
      "source": [
        "doutorado_df = ppgeec_df[ppgeec_df.program == 'doutorado'].reset_index(drop=True)\n",
        "doutorado_df.head()"
      ],
      "execution_count": 0,
      "outputs": [
        {
          "output_type": "execute_result",
          "data": {
            "text/html": [
              "<div>\n",
              "<style scoped>\n",
              "    .dataframe tbody tr th:only-of-type {\n",
              "        vertical-align: middle;\n",
              "    }\n",
              "\n",
              "    .dataframe tbody tr th {\n",
              "        vertical-align: top;\n",
              "    }\n",
              "\n",
              "    .dataframe thead th {\n",
              "        text-align: right;\n",
              "    }\n",
              "</style>\n",
              "<table border=\"1\" class=\"dataframe\">\n",
              "  <thead>\n",
              "    <tr style=\"text-align: right;\">\n",
              "      <th></th>\n",
              "      <th>program</th>\n",
              "      <th>day</th>\n",
              "      <th>month</th>\n",
              "      <th>year</th>\n",
              "      <th>title</th>\n",
              "      <th>author</th>\n",
              "      <th>key_words</th>\n",
              "      <th>abstract</th>\n",
              "      <th>resume</th>\n",
              "    </tr>\n",
              "  </thead>\n",
              "  <tbody>\n",
              "    <tr>\n",
              "      <th>0</th>\n",
              "      <td>doutorado</td>\n",
              "      <td>17</td>\n",
              "      <td>Dez</td>\n",
              "      <td>2018</td>\n",
              "      <td>N-Learning, uma abordagem para ensino e aprend...</td>\n",
              "      <td>Costa, Luís Feliphe Silva</td>\n",
              "      <td>Sistemas multirrobôs;Robôtica baseada em compo...</td>\n",
              "      <td>We propose the N-Learning paradigm, which allo...</td>\n",
              "      <td>Propomos o paradigma N-Learning, que propicia ...</td>\n",
              "    </tr>\n",
              "    <tr>\n",
              "      <th>1</th>\n",
              "      <td>doutorado</td>\n",
              "      <td>20</td>\n",
              "      <td>Dez</td>\n",
              "      <td>2018</td>\n",
              "      <td>SMART: Sistema de Monitoramento e Avaliação do...</td>\n",
              "      <td>Paiva, Jailton Carlos de</td>\n",
              "      <td>Telessaúde;Avaliação de Programa;Interoperabil...</td>\n",
              "      <td>The Telehealth Program was established by the ...</td>\n",
              "      <td>O Programa Telessaúde foi instituído pelo Mini...</td>\n",
              "    </tr>\n",
              "    <tr>\n",
              "      <th>2</th>\n",
              "      <td>doutorado</td>\n",
              "      <td>21</td>\n",
              "      <td>Dez</td>\n",
              "      <td>2018</td>\n",
              "      <td>Estimação da taxa de consumo de oxigênio com f...</td>\n",
              "      <td>Silva, Francisco Jadilson dos Santos</td>\n",
              "      <td>Taxa de consumo de oxigênio;Oxigênio dissolvid...</td>\n",
              "      <td>The oxygen uptake rate (OUR) is a key variable...</td>\n",
              "      <td>A taxa de consumo de oxigênio (TCO) é uma vari...</td>\n",
              "    </tr>\n",
              "    <tr>\n",
              "      <th>3</th>\n",
              "      <td>doutorado</td>\n",
              "      <td>28</td>\n",
              "      <td>Dez</td>\n",
              "      <td>2018</td>\n",
              "      <td>Antenas compactas e miniaturizadas para sistem...</td>\n",
              "      <td>Souza, Eduardo Amorim Martins de</td>\n",
              "      <td>Antena planar de microfita;Miniaturização de a...</td>\n",
              "      <td>Over the last few years, wireless communicatio...</td>\n",
              "      <td>Ao longo dos últimos anos, os sistemas de comu...</td>\n",
              "    </tr>\n",
              "    <tr>\n",
              "      <th>4</th>\n",
              "      <td>doutorado</td>\n",
              "      <td>23</td>\n",
              "      <td>Nov</td>\n",
              "      <td>2018</td>\n",
              "      <td>Análise e projeto de um Conversor A/D Sigma De...</td>\n",
              "      <td>Soares, Antonio Wallace Antunes</td>\n",
              "      <td>Conversores analógicos digitais;Sigma delta in...</td>\n",
              "      <td>Several applications in the instrumentation fi...</td>\n",
              "      <td>Diversas aplicações na área de instrumentação ...</td>\n",
              "    </tr>\n",
              "  </tbody>\n",
              "</table>\n",
              "</div>"
            ],
            "text/plain": [
              "     program  ...                                             resume\n",
              "0  doutorado  ...  Propomos o paradigma N-Learning, que propicia ...\n",
              "1  doutorado  ...  O Programa Telessaúde foi instituído pelo Mini...\n",
              "2  doutorado  ...  A taxa de consumo de oxigênio (TCO) é uma vari...\n",
              "3  doutorado  ...  Ao longo dos últimos anos, os sistemas de comu...\n",
              "4  doutorado  ...  Diversas aplicações na área de instrumentação ...\n",
              "\n",
              "[5 rows x 9 columns]"
            ]
          },
          "metadata": {
            "tags": []
          },
          "execution_count": 92
        }
      ]
    },
    {
      "cell_type": "code",
      "metadata": {
        "id": "SGQ-j50AcTqJ",
        "colab_type": "code",
        "outputId": "6897b86b-1fa7-4e24-c754-1bda1aac8d82",
        "colab": {
          "base_uri": "https://localhost:8080/",
          "height": 323
        }
      },
      "source": [
        "mestrado_df = ppgeec_df[ppgeec_df.program == 'mestrado'].reset_index(drop=True)\n",
        "mestrado_df.head()"
      ],
      "execution_count": 0,
      "outputs": [
        {
          "output_type": "execute_result",
          "data": {
            "text/html": [
              "<div>\n",
              "<style scoped>\n",
              "    .dataframe tbody tr th:only-of-type {\n",
              "        vertical-align: middle;\n",
              "    }\n",
              "\n",
              "    .dataframe tbody tr th {\n",
              "        vertical-align: top;\n",
              "    }\n",
              "\n",
              "    .dataframe thead th {\n",
              "        text-align: right;\n",
              "    }\n",
              "</style>\n",
              "<table border=\"1\" class=\"dataframe\">\n",
              "  <thead>\n",
              "    <tr style=\"text-align: right;\">\n",
              "      <th></th>\n",
              "      <th>program</th>\n",
              "      <th>day</th>\n",
              "      <th>month</th>\n",
              "      <th>year</th>\n",
              "      <th>title</th>\n",
              "      <th>author</th>\n",
              "      <th>key_words</th>\n",
              "      <th>abstract</th>\n",
              "      <th>resume</th>\n",
              "    </tr>\n",
              "  </thead>\n",
              "  <tbody>\n",
              "    <tr>\n",
              "      <th>0</th>\n",
              "      <td>mestrado</td>\n",
              "      <td>10</td>\n",
              "      <td>Jan</td>\n",
              "      <td>2014</td>\n",
              "      <td>Estudo da atenuação  da onda eletromagnética e...</td>\n",
              "      <td>Soffiatti, André</td>\n",
              "      <td>Antena de Microfita;Multicamadas Elétricas;Aco...</td>\n",
              "      <td>This work aims at investigating the behavior o...</td>\n",
              "      <td>Este trabalho tem como objetivo principal inve...</td>\n",
              "    </tr>\n",
              "    <tr>\n",
              "      <th>1</th>\n",
              "      <td>mestrado</td>\n",
              "      <td>None</td>\n",
              "      <td>Jul</td>\n",
              "      <td>2009</td>\n",
              "      <td>Firewall de aplicação para redes industriais</td>\n",
              "      <td>Batista Júnior, Aguinaldo Bezerra</td>\n",
              "      <td>Proteção de infra-estrutura crítica;Firewall d...</td>\n",
              "      <td>The utilization of firewalls is a widely accep...</td>\n",
              "      <td>A utilização de firewalls é uma abordagem ampl...</td>\n",
              "    </tr>\n",
              "    <tr>\n",
              "      <th>2</th>\n",
              "      <td>mestrado</td>\n",
              "      <td>None</td>\n",
              "      <td>Fev</td>\n",
              "      <td>2003</td>\n",
              "      <td>Controle adaptativo indireto por modelo de ref...</td>\n",
              "      <td>Oliveira, Josenalde Barbosa de</td>\n",
              "      <td>Controlador adaptativo;Motor de induçao trifásico</td>\n",
              "      <td>An indirect approach to the variable structure...</td>\n",
              "      <td>O objetivo deste trabalho é desenvolver um con...</td>\n",
              "    </tr>\n",
              "    <tr>\n",
              "      <th>3</th>\n",
              "      <td>mestrado</td>\n",
              "      <td>28</td>\n",
              "      <td>Jan</td>\n",
              "      <td>2019</td>\n",
              "      <td>Wavelet-based protection assessment of the dou...</td>\n",
              "      <td>Marques, Max Rodrigues</td>\n",
              "      <td>Gerador de Indução Duplamente Alimentado;Prote...</td>\n",
              "      <td>With the globalization and the rapidly increas...</td>\n",
              "      <td>Com o aumento da globalização e da demanda ene...</td>\n",
              "    </tr>\n",
              "    <tr>\n",
              "      <th>4</th>\n",
              "      <td>mestrado</td>\n",
              "      <td>25</td>\n",
              "      <td>Jan</td>\n",
              "      <td>2019</td>\n",
              "      <td>Data-Driven approach to parametric configurati...</td>\n",
              "      <td>Nunes, Yuri Thomas Pinheiro</td>\n",
              "      <td>Alarm configuration;Industrial alarms;Alarm tu...</td>\n",
              "      <td>As plantas industriais são compostas por proce...</td>\n",
              "      <td>Industrial plants are composed of processes th...</td>\n",
              "    </tr>\n",
              "  </tbody>\n",
              "</table>\n",
              "</div>"
            ],
            "text/plain": [
              "    program  ...                                             resume\n",
              "0  mestrado  ...  Este trabalho tem como objetivo principal inve...\n",
              "1  mestrado  ...  A utilização de firewalls é uma abordagem ampl...\n",
              "2  mestrado  ...  O objetivo deste trabalho é desenvolver um con...\n",
              "3  mestrado  ...  Com o aumento da globalização e da demanda ene...\n",
              "4  mestrado  ...  Industrial plants are composed of processes th...\n",
              "\n",
              "[5 rows x 9 columns]"
            ]
          },
          "metadata": {
            "tags": []
          },
          "execution_count": 91
        }
      ]
    },
    {
      "cell_type": "code",
      "metadata": {
        "id": "87VUrjpMca2y",
        "colab_type": "code",
        "outputId": "add75531-fea0-41a0-9dc4-20f939270a5f",
        "colab": {
          "base_uri": "https://localhost:8080/",
          "height": 51
        }
      },
      "source": [
        "# Anos que contém dados\n",
        "doutorado_years = doutorado_df.year.unique()\n",
        "doutorado_years = [int(x) for x in doutorado_years]\n",
        "doutorado_years.sort()\n",
        "\n",
        "print('Doutorado:', doutorado_years)\n",
        "\n",
        "mestrado_years = mestrado_df.year.unique()\n",
        "mestrado_years = [int(x) for x in mestrado_years]\n",
        "mestrado_years.sort()\n",
        "\n",
        "print('Mestrado:', mestrado_years)"
      ],
      "execution_count": 0,
      "outputs": [
        {
          "output_type": "stream",
          "text": [
            "Doutorado: [2003, 2004, 2005, 2006, 2007, 2008, 2009, 2010, 2011, 2012, 2013, 2014, 2015, 2016, 2017, 2018]\n",
            "Mestrado: [1985, 2000, 2001, 2002, 2003, 2004, 2005, 2006, 2007, 2008, 2009, 2010, 2011, 2012, 2013, 2014, 2015, 2016, 2017, 2018, 2019]\n"
          ],
          "name": "stdout"
        }
      ]
    }
  ]
}